{
 "cells": [
  {
   "cell_type": "code",
   "execution_count": 1,
   "metadata": {},
   "outputs": [],
   "source": [
    "import cv2\n"
   ]
  },
  {
   "cell_type": "code",
   "execution_count": 2,
   "metadata": {},
   "outputs": [],
   "source": [
    "import mediapipe as mp\n",
    "import numpy as np\n",
    "from scipy.signal import lfilter\n",
    "import matplotlib.pyplot as plt"
   ]
  },
  {
   "cell_type": "code",
   "execution_count": 3,
   "metadata": {},
   "outputs": [],
   "source": [
    "mp_drawing = mp.solutions.drawing_utils\n",
    "mp_hands = mp.solutions.hands"
   ]
  },
  {
   "cell_type": "code",
   "execution_count": 4,
   "metadata": {},
   "outputs": [],
   "source": [
    "hands = mp_hands.Hands(max_num_hands = 2, static_image_mode = False,min_detection_confidence = 0.5)"
   ]
  },
  {
   "cell_type": "code",
   "execution_count": 5,
   "metadata": {},
   "outputs": [],
   "source": [
    "# storing all the coordinates at different timesteps in a list\n",
    "list_x = []\n",
    "list_y = []\n",
    "list_z = []\n",
    "list_avg_x = []\n",
    "list_avg_y = []\n",
    "list_avg_z = []\n"
   ]
  },
  {
   "cell_type": "code",
   "execution_count": 6,
   "metadata": {},
   "outputs": [],
   "source": [
    "# color and thickness of the lines\n",
    "color = (255,0,0)\n",
    "thickness = 2\n",
    "radius = 2\n",
    "# threshold after which we should start drawing\n",
    "threshold = 4\n",
    "\n",
    "# moving average buffer\n",
    "k = 5\n"
   ]
  },
  {
   "cell_type": "code",
   "execution_count": 7,
   "metadata": {},
   "outputs": [],
   "source": [
    "# canvas on which we are drawing\n",
    "canvas = np.zeros([512,512,1],dtype=np.uint8)\n",
    "display = canvas.copy()\n",
    "cursor = canvas.copy()"
   ]
  },
  {
   "cell_type": "code",
   "execution_count": 8,
   "metadata": {},
   "outputs": [],
   "source": [
    "toggle = 1\n",
    "\n",
    "     \n",
    "    "
   ]
  },
  {
   "cell_type": "code",
   "execution_count": 9,
   "metadata": {},
   "outputs": [],
   "source": [
    "cap = cv2.VideoCapture(0)\n",
    "count = 0\n",
    "while cap.isOpened():\n",
    "    success, image = cap.read()\n",
    "    \n",
    "        \n",
    "    if not success:\n",
    "        print(\"video capture unsuccessful\")\n",
    "        break\n",
    "    \n",
    "    image = cv2.cvtColor(cv2.flip(image,1), cv2.COLOR_BGR2RGB)\n",
    "    image.flags.writeable = False\n",
    "    results = hands.process(image)\n",
    "    \n",
    "    \n",
    "    \n",
    "    image.flags.writeable = True\n",
    "    image = cv2.cvtColor(image, cv2.COLOR_RGB2BGR)\n",
    "    \n",
    "    key = cv2.waitKey(5)\n",
    "    \n",
    "    if key == 225:\n",
    "        toggle = toggle^1\n",
    "    elif key & 0xFF == ord('s'):\n",
    "        break\n",
    "    \n",
    "    \n",
    "        \n",
    "    \n",
    "    if results.multi_hand_landmarks:\n",
    "        \n",
    "        \n",
    "        \n",
    "            count = count+1\n",
    "            hand_landmarks = results.multi_hand_landmarks[0]\n",
    "        \n",
    "            # add the coordinates to the list\n",
    "            list_x.append(int(hand_landmarks.landmark[8].x*512))\n",
    "            list_y.append(int(hand_landmarks.landmark[8].y*512))\n",
    "            list_z.append(int(hand_landmarks.landmark[8].z*512))\n",
    "            \n",
    "            if(count == k):\n",
    "                avg_x = sum(list_x[-k:])/k\n",
    "                avg_y = sum(list_y[-k:])/k\n",
    "                avg_z = sum(list_z[-k:])/k\n",
    "            \n",
    "                list_avg_x.append(int(avg_x))\n",
    "                list_avg_y.append(int(avg_y))\n",
    "                list_avg_z.append(int(avg_z))\n",
    "                count = 0\n",
    "            \n",
    "        \n",
    "            if(len(list_avg_x) > threshold and toggle == 1):\n",
    "                # get the current coordinates as endpoint\n",
    "                end_point = (list_avg_x[-1], list_avg_y[-1])\n",
    "                # get the previous coordinates as the start point\n",
    "                start_point = (list_avg_x[-2], list_avg_y[-2])\n",
    "                # draw a line joining these points\n",
    "                cv2.line(canvas,start_point, end_point,color, thickness)\n",
    "                display = canvas.copy()\n",
    "            \n",
    "            elif(len(list_avg_x) > threshold and toggle == 0):\n",
    "                \n",
    "                # get the current coordinates as endpoint\n",
    "                end_point = (list_avg_x[-1], list_avg_y[-1])\n",
    "                cursor = canvas.copy()\n",
    "                cv2.circle(cursor,end_point,radius,color,thickness)\n",
    "                display = cursor.copy()\n",
    "                \n",
    "                \n",
    "                \n",
    "                \n",
    "                \n",
    "       \n",
    "            mp_drawing.draw_landmarks(image, hand_landmarks, mp_hands.HAND_CONNECTIONS)\n",
    "    \n",
    "            \n",
    "    # show the canvas and the webcam image   \n",
    "    cv2.imshow(\"Detected Hands\", image)\n",
    "    cv2.imshow(\"Result\", display)\n",
    "    \n",
    "    \n",
    "    \n",
    "  \n",
    "hands.close()\n",
    "cv2.destroyAllWindows()\n",
    "cap.release()\n",
    "\n",
    "\n",
    "\n",
    "\n"
   ]
  },
  {
   "cell_type": "code",
   "execution_count": 10,
   "metadata": {},
   "outputs": [
    {
     "name": "stdout",
     "output_type": "stream",
     "text": [
      "[322, 319, 304, 303, 305, 310, 309, 306, 308, 312, 312, 308, 303, 301, 303, 296, 281, 259, 242, 239, 257, 281, 303, 320, 329, 330, 302, 275, 257, 246, 242, 242, 237, 231, 219, 194, 166, 142, 149, 157, 161, 159, 156, 149, 145, 135, 123, 115, 113, 114, 119, 127, 127, 127, 132, 139, 149, 163, 183, 197, 205, 206, 207, 194, 182, 169, 145, 130, 126, 128, 129, 129, 124, 119, 131, 157, 180, 194, 185, 190, 202, 192, 186, 216, 222, 212, 230, 267, 296, 312, 328, 344, 352, 350, 347, 336, 313, 294, 288, 294, 314, 338, 358, 372, 376, 366, 353, 371, 369, 360, 353, 343, 331, 320, 308, 302, 302]\n"
     ]
    }
   ],
   "source": [
    "print(list_avg_x)"
   ]
  },
  {
   "cell_type": "code",
   "execution_count": 11,
   "metadata": {},
   "outputs": [
    {
     "name": "stdout",
     "output_type": "stream",
     "text": [
      "[364, 274, 176, 101, 75, 59, 52, 50, 53, 55, 57, 55, 55, 54, 54, 54, 53, 56, 70, 90, 104, 105, 106, 119, 146, 185, 195, 183, 177, 174, 175, 172, 163, 157, 140, 117, 105, 85, 80, 81, 84, 90, 98, 89, 72, 84, 129, 172, 214, 228, 192, 148, 119, 102, 82, 69, 71, 93, 128, 172, 206, 221, 206, 157, 131, 137, 149, 158, 161, 167, 168, 148, 132, 134, 140, 145, 135, 131, 128, 132, 162, 212, 248, 248, 244, 217, 206, 206, 222, 258, 261, 233, 228, 226, 227, 228, 227, 233, 252, 267, 258, 247, 251, 268, 293, 287, 269, 275, 293, 307, 318, 320, 321, 318, 323, 324, 327]\n"
     ]
    }
   ],
   "source": [
    "print(list_avg_y)"
   ]
  },
  {
   "cell_type": "code",
   "execution_count": 12,
   "metadata": {},
   "outputs": [
    {
     "name": "stdout",
     "output_type": "stream",
     "text": [
      "0\n"
     ]
    }
   ],
   "source": [
    "print(count)"
   ]
  },
  {
   "cell_type": "code",
   "execution_count": 13,
   "metadata": {},
   "outputs": [
    {
     "name": "stdout",
     "output_type": "stream",
     "text": [
      "117\n"
     ]
    }
   ],
   "source": [
    "print(len(list_avg_x))"
   ]
  },
  {
   "cell_type": "code",
   "execution_count": null,
   "metadata": {},
   "outputs": [],
   "source": []
  }
 ],
 "metadata": {
  "kernelspec": {
   "display_name": "Python 3",
   "language": "python",
   "name": "python3"
  },
  "language_info": {
   "codemirror_mode": {
    "name": "ipython",
    "version": 3
   },
   "file_extension": ".py",
   "mimetype": "text/x-python",
   "name": "python",
   "nbconvert_exporter": "python",
   "pygments_lexer": "ipython3",
   "version": "3.8.5"
  }
 },
 "nbformat": 4,
 "nbformat_minor": 4
}
