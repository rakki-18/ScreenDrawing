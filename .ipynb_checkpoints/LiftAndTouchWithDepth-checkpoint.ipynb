{
 "cells": [
  {
   "cell_type": "code",
   "execution_count": 1,
   "metadata": {},
   "outputs": [],
   "source": [
    "import cv2\n"
   ]
  },
  {
   "cell_type": "code",
   "execution_count": 2,
   "metadata": {},
   "outputs": [],
   "source": [
    "import mediapipe as mp\n",
    "import numpy as np\n",
    "from scipy.signal import lfilter\n",
    "import matplotlib.pyplot as plt"
   ]
  },
  {
   "cell_type": "code",
   "execution_count": 3,
   "metadata": {},
   "outputs": [],
   "source": [
    "mp_drawing = mp.solutions.drawing_utils\n",
    "mp_hands = mp.solutions.hands"
   ]
  },
  {
   "cell_type": "code",
   "execution_count": 4,
   "metadata": {},
   "outputs": [],
   "source": [
    "hands = mp_hands.Hands(max_num_hands = 2, static_image_mode = False,min_detection_confidence = 0.5)"
   ]
  },
  {
   "cell_type": "code",
   "execution_count": 5,
   "metadata": {},
   "outputs": [],
   "source": [
    "# storing all the coordinates at different timesteps in a list\n",
    "list_x = []\n",
    "list_y = []\n",
    "list_z = []\n",
    "list_avg_x = []\n",
    "list_avg_y = []\n",
    "list_avg_z = []\n"
   ]
  },
  {
   "cell_type": "code",
   "execution_count": 6,
   "metadata": {},
   "outputs": [],
   "source": [
    "# color and thickness of the lines\n",
    "color = (255,0,0)\n",
    "thickness = 2\n",
    "radius = 2\n",
    "# threshold after which we should start drawing\n",
    "threshold = 8\n",
    "\n",
    "# threshold after which we should take base depth\n",
    "base_threshold = 6\n",
    "\n",
    "\n",
    "\n",
    "# moving average buffer\n",
    "k = 5\n",
    "\n"
   ]
  },
  {
   "cell_type": "code",
   "execution_count": 7,
   "metadata": {},
   "outputs": [],
   "source": [
    "# canvas on which we are drawing\n",
    "canvas = np.zeros([512,512,1],dtype=np.uint8)\n",
    "display = canvas.copy()\n",
    "cursor = canvas.copy()"
   ]
  },
  {
   "cell_type": "code",
   "execution_count": 8,
   "metadata": {},
   "outputs": [],
   "source": [
    "toggle = 1\n",
    "\n",
    "     \n",
    "    "
   ]
  },
  {
   "cell_type": "code",
   "execution_count": 9,
   "metadata": {},
   "outputs": [],
   "source": [
    "base_depth = 0"
   ]
  },
  {
   "cell_type": "code",
   "execution_count": 10,
   "metadata": {},
   "outputs": [],
   "source": [
    "lift_threshold = -10\n",
    "touch_threshold = -25"
   ]
  },
  {
   "cell_type": "code",
   "execution_count": 11,
   "metadata": {},
   "outputs": [],
   "source": [
    "cap = cv2.VideoCapture(0)\n",
    "buffer_count = 0\n",
    "delay_count = 0\n",
    "while cap.isOpened():\n",
    "    success, image = cap.read()\n",
    "    \n",
    "    toggle = 0\n",
    "    if not success:\n",
    "        print(\"video capture unsuccessful\")\n",
    "        break\n",
    "    \n",
    "    \n",
    "     \n",
    "    image = cv2.cvtColor(cv2.flip(image,1), cv2.COLOR_BGR2RGB)\n",
    "    image.flags.writeable = False\n",
    "    results = hands.process(image)\n",
    "    \n",
    "    \n",
    "    \n",
    "    image.flags.writeable = True\n",
    "    image = cv2.cvtColor(image, cv2.COLOR_RGB2BGR)\n",
    "    \n",
    "    if results.multi_hand_landmarks:\n",
    "        \n",
    "        \n",
    "        \n",
    "        buffer_count = buffer_count+1\n",
    "        hand_landmarks = results.multi_hand_landmarks[0]\n",
    "        \n",
    "        # add the coordinates to the list\n",
    "        list_x.append(int(hand_landmarks.landmark[8].x*512))\n",
    "        list_y.append(int(hand_landmarks.landmark[8].y*512))\n",
    "        list_z.append(int(hand_landmarks.landmark[8].z*512))\n",
    "        \n",
    "        \n",
    "        \n",
    "        \n",
    "        \n",
    "        if(buffer_count == k):\n",
    "            avg_x = sum(list_x[-k:])/k\n",
    "            avg_y = sum(list_y[-k:])/k\n",
    "            avg_z = sum(list_z[-k:])/k\n",
    "            \n",
    "            list_avg_x.append(int(avg_x))\n",
    "            list_avg_y.append(int(avg_y))\n",
    "            list_avg_z.append(int(avg_z))\n",
    "            buffer_count = 0\n",
    "            \n",
    "           \n",
    "            \n",
    "            if(len(list_avg_z) == base_threshold):\n",
    "                base_depth = list_avg_z[-1]\n",
    "                \n",
    "            if(list_avg_z[-1] - base_depth > lift_threshold):\n",
    "               toggle = 0\n",
    "            if(list_avg_z[-1] - base_depth < touch_threshold):\n",
    "                toggle = 1\n",
    "            \n",
    "            if(len(list_avg_x) > threshold and toggle == 1):\n",
    "                # get the current coordinates as endpoint\n",
    "                end_point = (list_avg_x[-1], list_avg_y[-1])\n",
    "                # get the previous coordinates as the start point\n",
    "                start_point = (list_avg_x[-2], list_avg_y[-2])\n",
    "                # draw a line joining these points\n",
    "                cv2.line(canvas,start_point, end_point,color, thickness)\n",
    "                display = canvas.copy()\n",
    "            elif(len(list_avg_x) > threshold and toggle == 0):\n",
    "                \n",
    "                # get the current coordinates as endpoint\n",
    "                end_point = (list_avg_x[-1], list_avg_y[-1])\n",
    "                cursor = canvas.copy()\n",
    "                cv2.circle(cursor,end_point,radius,color,thickness)\n",
    "                display = cursor.copy()\n",
    "                \n",
    "                \n",
    "                \n",
    "       \n",
    "        mp_drawing.draw_landmarks(image, hand_landmarks, mp_hands.HAND_CONNECTIONS)\n",
    "        \n",
    "    \n",
    "  \n",
    "    \n",
    "    # show the canvas and the webcam image   \n",
    "    cv2.imshow(\"Detected Hands\", image)\n",
    "    cv2.imshow(\"Result\", display)\n",
    "    \n",
    "    \n",
    "    \n",
    "    # exit when the user presses 's's\n",
    "    if cv2.waitKey(5) & 0xFF == ord('s'):\n",
    "        break\n",
    "hands.close()\n",
    "cv2.destroyAllWindows()\n",
    "cap.release()\n",
    "\n",
    "\n",
    "\n",
    "\n"
   ]
  },
  {
   "cell_type": "code",
   "execution_count": 12,
   "metadata": {},
   "outputs": [
    {
     "name": "stdout",
     "output_type": "stream",
     "text": [
      "[-125, -237, -190, -191, 9, -88, -30, -6, -14, -59, -49, -38, -40, -14, -20, -20, -40, -50, -21, -23, -21, -17, -15, -11, -23, -25, -14, -7, -13, -4, -17, -21, -23, -17, -17, -19, -23, -30, -17, -19, -25, -25, -18, -25, -30, -46, -35, -68, -32, -37, -34, -39, -38, -36, -38, -35, -41, -44, -39, -44, -38, -35, -25, -19, -29, -27, -28, -31, -37, -31, -43, -31, -40, -30, -32, -32, -58, -33, -46, -41, -30, -5, -17, -19, -2, -4, -12, -2, -2, -14, -6, -8, -14, -3, -9, -5, -2, -14, -2, -19, -23, -11, -17, -12, -8, -10, -14, -12, 0, -11, -10, -21, -10, -31, -28, -27, -31, -12, -19, -29, -20, -26, -28, -19, -21, 0, -19, -17, -14, -6, -11, -21, -17, -17, -21, -15, -27, -32, -27, -32, -11, -27, -24, -26, -25, -21, -29, -30, -48, -43, -48, -41, -32, -32, -35, -38, -34, -38, -35, -50, -42, -44, -56, -50, -63, -46, -61, -67, -64, -62, -48, -49, -54, -43, -60, -57, -64, -75, -71, -69, -59, -56, -64, -96, -93, -74, -76, -98, -77, -89, -99, -115, -108, -110, -130, -116, -126, -112, -97, -119, -92, -86, -118, -108, -96, -104, -163, -110, -120, -83, -113, -107, -97, -110, -102, -118, -111, -129, -79, -70, -113, -74, -108, -106, -92, -116, -106, -91, -96, -58, -61, -72, -54, -67, -67, -103, -88, -143, -111, -110, -129, -131, -116, -134, -98, -128, -111, -92, -112, -116, -145, -129, -119, -105, -94, -113, -81, -125, -120, -119, -88, -81, -102, -104, -111, -101, -92, -122, -63, -139, -90, -106, -122, -110, -104, -93, -147, -138, -111, -117, -91, -43, -65, -73, -73, -70, -86, -59, -58, -52, -75, -68, -49, -96, -70, -68, -85, -99, -88, -101, -116, -156, -6, -105, -113, -88, -92, -99, -135, -105, -106, -105, -97, -102, -117, -107, -108, -120, -105, -118, -42, -87, -121, -107, -108, -159, -157, -116, -119, -114, -104, -178, -90, -107, -97, -74, -82, -61, -47, -47, -55, -53, -46, -53, -56, -59, -42, -55, -110, -122, -134, -142, -124, -141, -133, -132, -122, -73, -135, -91, -88, -63, -45, -65, -62, -95, -45, -52, -92, -63, -66, -66, -50, -55, -35, -36, -58, -80, -56, -73, -73, -38, -83, -62, -81, -89, -83, -126, -103, -76, -88, -131, -132, -120, -76, -75, -75, -67, -76, -68, -58, -84, -100, -85, -107, -96, -70, -52, -91, -82, -57, -71, -44, -69, -53, -56, -42, -37, -44, -44, -44, -58, -53, -42, -46, -49, -45, -57, -52, -61, -42, -67, -75, -59, -50, -60, -54, -52, -64, -67, -51, -59, -99, -58, -63, -105, -54, -67, -63, -63, -68, -70, -62, -71, -67, -54, -50, -43, -56, -70, -70, -69, -57, -41, -68, -70, -67, -60, -51, -42, -64, -65, -77, -81, -79, -71, -121, -86, -71, -82, -56, -67, -52, -60, -66, -61, -63, -113, -65, -52, -50, -53, -51, -50, -52, -54, -58, -59, -68, -52, -85, -63, -72, -81, -71, -65, -73, -104, -90, -97, -93, -86, -96, -94, -109, -109, -66, -69, -78, -71, -79, -73, -62, -70, -60, -65, -64, -56, -57, -57, -59, -58, -94, -110, -76, -86, -109, -79, -83, -64, -132, -92, -124, -124, -65, -74, -98, -109, -91, -78, -100, -68, -93, -112, -84, -71, -56, -45, -43, -30, -49, -15, -33, -30, -13, -29, -25, -31, -25, -13, -29, -24, -22, -103, -31, -50, -43, -40, -51, -118, -58, -41, -46, -52, -69, -37, -135, -91, -53, -60, -40, -21, -3, -12, 1, 1, -20, -6, 13, 8, 10, 5, 6, 4, 5, 14, 17, 14, 19, 8, 25, 13, -4, -14, -18, -32, -42, -47, -44, -49, -57, -48, -35, -47, -54, -55, -67, -74, -80, -89, -85, -73, -92, -88, -88, -94, -88, -101, -106, -118, -120, -109, -126, -111, -130, -124, -123, -123, -120, -134, -109, -125, -106, -85, -98, -93, -94, -95, -94, -79, -78, -72, -78, -80, -69, -90, -90, -87, -89, -90, -89, -85, -90, -81, -99, -94, -97, -92, -112, -115, -120, -126, -123, -116, -93, -102, -105, -101, -109, -98, -121, -117, -117, -109, -104, -88, -83, -90, -89, -80, -83, -85, -82, -88, -81, -100, -100, -89, -91, -91, -78, -72, -83, -71, -90, -109, -96, -110, -114, -104, -107, -99, -118, -95, -88, -82, -81, -80, -81, -75, -75, -69, -78, -70, -77, -82, -82, -90, -78, -72, -67, -74, -75, -74, -90, -102, -126, -137, -129, -81, -37, -146, 35, -79, -91, -116, -100, -94, -130, -114, -112, -113, -94, -94, -89, -67, -69, -66, -63, -53, -68, -73, -86, -97, -95, -89, -88, -70, -82, -89, -70, -60, -70, -72, -72, -65, -70, -74, -82, -83, -80, -76, -82, -84, -82, -77, -84, -69, -65, -73, -70, -73, -65, -55, -38, -48, -38, -56, -26, -40, -40, -41, -32, -25, -35, -40, -34, -39, -37, -58, -54, -66, -74, -80, -144, -161, -108, -155, -138, -91, -111, -86, -85, -154, -181, -59, -176, -133, -105, -76, -74]\n"
     ]
    }
   ],
   "source": [
    "print(list_z)"
   ]
  },
  {
   "cell_type": "code",
   "execution_count": null,
   "metadata": {},
   "outputs": [],
   "source": []
  }
 ],
 "metadata": {
  "kernelspec": {
   "display_name": "Python 3",
   "language": "python",
   "name": "python3"
  },
  "language_info": {
   "codemirror_mode": {
    "name": "ipython",
    "version": 3
   },
   "file_extension": ".py",
   "mimetype": "text/x-python",
   "name": "python",
   "nbconvert_exporter": "python",
   "pygments_lexer": "ipython3",
   "version": "3.8.5"
  }
 },
 "nbformat": 4,
 "nbformat_minor": 4
}
