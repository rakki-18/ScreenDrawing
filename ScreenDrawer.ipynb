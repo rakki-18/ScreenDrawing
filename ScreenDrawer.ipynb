{
 "cells": [
  {
   "cell_type": "code",
   "execution_count": 1,
   "metadata": {},
   "outputs": [],
   "source": [
    "import cv2"
   ]
  },
  {
   "cell_type": "code",
   "execution_count": 2,
   "metadata": {},
   "outputs": [],
   "source": [
    "import mediapipe as mp\n",
    "import numpy as np"
   ]
  },
  {
   "cell_type": "code",
   "execution_count": 3,
   "metadata": {},
   "outputs": [],
   "source": [
    "mp_drawing = mp.solutions.drawing_utils\n",
    "mp_hands = mp.solutions.hands"
   ]
  },
  {
   "cell_type": "code",
   "execution_count": 4,
   "metadata": {},
   "outputs": [],
   "source": [
    "hands = mp_hands.Hands(max_num_hands = 1, static_image_mode = True,min_detection_confidence = 0.5)"
   ]
  },
  {
   "cell_type": "code",
   "execution_count": 5,
   "metadata": {},
   "outputs": [],
   "source": [
    "# storing all the coordinates at different timesteps in a list\n",
    "list_x = []\n",
    "list_y = []\n",
    "list_z = []\n"
   ]
  },
  {
   "cell_type": "code",
   "execution_count": 6,
   "metadata": {},
   "outputs": [],
   "source": [
    "# color and thickness of the lines\n",
    "color = (255,0,0)\n",
    "thickness = 2\n",
    "# threshold after which we should start drawing\n",
    "threshold = 10\n"
   ]
  },
  {
   "cell_type": "code",
   "execution_count": 7,
   "metadata": {},
   "outputs": [],
   "source": [
    "# canvas on which we are drawing\n",
    "canvas = np.zeros([512,512,1],dtype=np.uint8)"
   ]
  },
  {
   "cell_type": "code",
   "execution_count": 8,
   "metadata": {},
   "outputs": [
    {
     "name": "stdout",
     "output_type": "stream",
     "text": [
      "0.5114074349403381\n",
      "0.46592020988464355\n",
      "0.46834200620651245\n",
      "0.3834954500198364\n",
      "0.4398321509361267\n",
      "0.3414974808692932\n",
      "0.432224303483963\n",
      "0.32645994424819946\n",
      "0.43576452136039734\n",
      "0.31891414523124695\n",
      "0.44389986991882324\n",
      "0.30344170331954956\n",
      "0.45282652974128723\n",
      "0.2997966408729553\n",
      "0.4598252773284912\n",
      "0.2954045534133911\n",
      "0.46534430980682373\n",
      "0.29460346698760986\n",
      "0.46631425619125366\n",
      "0.2957170009613037\n",
      "0.46511781215667725\n",
      "0.2926764488220215\n",
      "0.46191468834877014\n",
      "0.29083940386772156\n",
      "0.45913568139076233\n",
      "0.2981955409049988\n",
      "0.4597543776035309\n",
      "0.300356924533844\n",
      "0.4651033282279968\n",
      "0.29528969526290894\n",
      "0.4645218849182129\n",
      "0.29863548278808594\n",
      "0.45813313126564026\n",
      "0.2990173399448395\n",
      "0.46892470121383667\n",
      "0.297688364982605\n",
      "0.46168744564056396\n",
      "0.3058242201805115\n",
      "0.46494245529174805\n",
      "0.2990271747112274\n",
      "0.4684944450855255\n",
      "0.2993006110191345\n",
      "0.4600244462490082\n",
      "0.2966521084308624\n",
      "0.4632752537727356\n",
      "0.2977152466773987\n",
      "0.46115434169769287\n",
      "0.2964719831943512\n",
      "0.46559128165245056\n",
      "0.3004632592201233\n",
      "0.4697865843772888\n",
      "0.2944753170013428\n",
      "0.46816080808639526\n",
      "0.3044929504394531\n",
      "0.46500957012176514\n",
      "0.30487117171287537\n",
      "0.46624279022216797\n",
      "0.30464956164360046\n",
      "0.46435415744781494\n",
      "0.3041471838951111\n",
      "0.46224111318588257\n",
      "0.3057597875595093\n",
      "0.46532824635505676\n",
      "0.3027060627937317\n",
      "0.46214455366134644\n",
      "0.3075997233390808\n",
      "0.4631510078907013\n",
      "0.3013623356819153\n",
      "0.46694958209991455\n",
      "0.3029143214225769\n",
      "0.48214390873908997\n",
      "0.31699538230895996\n",
      "0.4902072548866272\n",
      "0.3346932530403137\n",
      "0.49870556592941284\n",
      "0.40242356061935425\n",
      "0.5016291737556458\n",
      "0.47229117155075073\n",
      "0.5037854313850403\n",
      "0.5211487412452698\n",
      "0.5044955015182495\n",
      "0.48577624559402466\n",
      "0.49850618839263916\n",
      "0.38611680269241333\n",
      "0.4919244945049286\n",
      "0.28462350368499756\n",
      "0.495734840631485\n",
      "0.2573840618133545\n",
      "0.5851238965988159\n",
      "0.2137605845928192\n",
      "0.6376671195030212\n",
      "0.2733064293861389\n",
      "0.6258080005645752\n",
      "0.2935006618499756\n",
      "0.6058502197265625\n",
      "0.34889402985572815\n",
      "0.6576108336448669\n",
      "0.31227269768714905\n",
      "0.6070220470428467\n",
      "0.25344040989875793\n",
      "0.5761956572532654\n",
      "0.25320354104042053\n",
      "0.5456621646881104\n",
      "0.24730466306209564\n",
      "0.502784013748169\n",
      "0.2515466511249542\n",
      "0.4920012354850769\n",
      "0.28535690903663635\n",
      "0.46883624792099\n",
      "0.2380152940750122\n",
      "0.4643867015838623\n",
      "0.2416064441204071\n",
      "0.4622325301170349\n",
      "0.24295657873153687\n",
      "0.4539446234703064\n",
      "0.24853944778442383\n",
      "0.43124106526374817\n",
      "0.26092472672462463\n",
      "0.4329952299594879\n",
      "0.2545986473560333\n",
      "0.42438361048698425\n",
      "0.24303847551345825\n",
      "0.4560879170894623\n",
      "0.32221728563308716\n",
      "0.504606306552887\n",
      "0.18674251437187195\n",
      "0.5426165461540222\n",
      "0.24294346570968628\n",
      "0.44487136602401733\n",
      "0.3308064043521881\n",
      "0.43229496479034424\n",
      "0.5022404193878174\n",
      "0.560541033744812\n",
      "0.3602983057498932\n",
      "0.5125147104263306\n",
      "0.47193968296051025\n",
      "0.44874832034111023\n",
      "0.44625169038772583\n",
      "0.4531026780605316\n",
      "0.37720802426338196\n",
      "0.4579329788684845\n",
      "0.2270800769329071\n",
      "0.4360632300376892\n",
      "0.33971184492111206\n",
      "0.4126587510108948\n",
      "0.2514730393886566\n",
      "0.3760266602039337\n",
      "0.21103161573410034\n",
      "0.36489009857177734\n",
      "0.22648394107818604\n",
      "0.2910100221633911\n",
      "0.4782426655292511\n",
      "0.36098024249076843\n",
      "0.296420693397522\n",
      "0.37161892652511597\n",
      "0.2972372770309448\n",
      "0.45056015253067017\n",
      "0.2629278302192688\n",
      "0.3985385298728943\n",
      "0.5967431664466858\n"
     ]
    }
   ],
   "source": [
    "cap = cv2.VideoCapture(0)\n",
    "\n",
    "while cap.isOpened():\n",
    "    success, image = cap.read()\n",
    "    \n",
    "        \n",
    "    if not success:\n",
    "        print(\"video capture unsuccessful\")\n",
    "        break\n",
    "    \n",
    "    image = cv2.cvtColor(cv2.flip(image,1), cv2.COLOR_BGR2RGB)\n",
    "    image.flags.writeable = False\n",
    "    results = hands.process(image)\n",
    "    \n",
    "    \n",
    "    \n",
    "    image.flags.writeable = True\n",
    "    image = cv2.cvtColor(image, cv2.COLOR_RGB2BGR)\n",
    "    \n",
    "    if results.multi_hand_landmarks:\n",
    "        \n",
    "        \n",
    "        \n",
    "        \n",
    "        hand_landmarks = results.multi_hand_landmarks[0]\n",
    "        print(hand_landmarks.landmark[8].x)\n",
    "        print(hand_landmarks.landmark[8].y)\n",
    "        \n",
    "        if(len(list_x) > threshold):\n",
    "                # get the current coordinates as endpoint\n",
    "                end_point = (int(hand_landmarks.landmark[8].x*256), int(hand_landmarks.landmark[8].y*256))\n",
    "                # get the previous coordinates as the start point\n",
    "                start_point = (list_x[-1], list_y[-1])\n",
    "                # draw a line joining these points\n",
    "                cv2.line(canvas,start_point, end_point,color, thickness)\n",
    "        # add the coordinates to the list\n",
    "        list_x.append(int(hand_landmarks.landmark[8].x*256))\n",
    "        list_y.append(int(hand_landmarks.landmark[8].y*256))\n",
    "        list_z.append(int(hand_landmarks.landmark[8].z*256))\n",
    "                \n",
    "            \n",
    "            \n",
    "            \n",
    "        mp_drawing.draw_landmarks(image, hand_landmarks, mp_hands.HAND_CONNECTIONS)\n",
    "        \n",
    "        \n",
    "    # show the canvas and the webcam image   \n",
    "    cv2.imshow(\"Detected Hands\", image)\n",
    "    cv2.imshow(\"Result\", canvas) \n",
    "    \n",
    "    # exit when the user presses 's'\n",
    "    if cv2.waitKey(5) & 0xFF == ord('s'):\n",
    "        break\n",
    "hands.close()\n",
    "cv2.destroyAllWindows()\n",
    "cap.release()\n",
    "\n",
    "\n",
    "\n"
   ]
  },
  {
   "cell_type": "code",
   "execution_count": 12,
   "metadata": {},
   "outputs": [
    {
     "name": "stdout",
     "output_type": "stream",
     "text": [
      "[-32, -75, -30, -20, -27, -18, -33, -20, -15, -18, -25, -12, -23, -11, -13, -29, -34, -14, -14, -23, -28, -31, -24, -34, -17, -22, -27, -18, -26, -22, -21, -21, -21, -19, -20, -23, -41, -43, -20, -45, -62, -49, 0, -37, -59, -40, -53, -49, -17, -38, -34, -29, -44, -53, -56, -37, -30, -31, -59, -36, -20, -27, -62, -62, -57, -39, -77, -94, -37, -70, -78, -113, -48, -59, -83, 17, -93, -71, -56, -31]\n"
     ]
    }
   ],
   "source": [
    "print(list_z)"
   ]
  },
  {
   "cell_type": "code",
   "execution_count": 13,
   "metadata": {},
   "outputs": [
    {
     "name": "stdout",
     "output_type": "stream",
     "text": [
      "[130, 119, 112, 110, 111, 113, 115, 117, 119, 119, 119, 118, 117, 117, 119, 118, 117, 120, 118, 119, 119, 117, 118, 118, 119, 120, 119, 119, 119, 118, 118, 119, 118, 118, 119, 123, 125, 127, 128, 128, 129, 127, 125, 126, 149, 163, 160, 155, 168, 155, 147, 139, 128, 125, 120, 118, 118, 116, 110, 110, 108, 116, 129, 138, 113, 110, 143, 131, 114, 115, 117, 111, 105, 96, 93, 74, 92, 95, 115, 102]\n"
     ]
    }
   ],
   "source": [
    "print(list_x)"
   ]
  },
  {
   "cell_type": "code",
   "execution_count": 14,
   "metadata": {},
   "outputs": [
    {
     "name": "stdout",
     "output_type": "stream",
     "text": [
      "[119, 98, 87, 83, 81, 77, 76, 75, 75, 75, 74, 74, 76, 76, 75, 76, 76, 76, 78, 76, 76, 75, 76, 75, 76, 75, 77, 78, 77, 77, 78, 77, 78, 77, 77, 81, 85, 103, 120, 133, 124, 98, 72, 65, 54, 69, 75, 89, 79, 64, 64, 63, 64, 73, 60, 61, 62, 63, 66, 65, 62, 82, 47, 62, 84, 128, 92, 120, 114, 96, 58, 86, 64, 54, 57, 122, 75, 76, 67, 152]\n"
     ]
    }
   ],
   "source": [
    "print(list_y)"
   ]
  },
  {
   "cell_type": "code",
   "execution_count": null,
   "metadata": {},
   "outputs": [],
   "source": []
  }
 ],
 "metadata": {
  "kernelspec": {
   "display_name": "Python 3",
   "language": "python",
   "name": "python3"
  },
  "language_info": {
   "codemirror_mode": {
    "name": "ipython",
    "version": 3
   },
   "file_extension": ".py",
   "mimetype": "text/x-python",
   "name": "python",
   "nbconvert_exporter": "python",
   "pygments_lexer": "ipython3",
   "version": "3.8.5"
  }
 },
 "nbformat": 4,
 "nbformat_minor": 4
}
