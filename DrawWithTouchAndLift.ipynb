{
 "cells": [
  {
   "cell_type": "code",
   "execution_count": 1,
   "metadata": {},
   "outputs": [],
   "source": [
    "import cv2\n"
   ]
  },
  {
   "cell_type": "code",
   "execution_count": 2,
   "metadata": {},
   "outputs": [],
   "source": [
    "import mediapipe as mp\n",
    "import numpy as np\n",
    "from scipy.signal import lfilter\n",
    "import matplotlib.pyplot as plt"
   ]
  },
  {
   "cell_type": "code",
   "execution_count": 3,
   "metadata": {},
   "outputs": [],
   "source": [
    "mp_drawing = mp.solutions.drawing_utils\n",
    "mp_hands = mp.solutions.hands"
   ]
  },
  {
   "cell_type": "code",
   "execution_count": 4,
   "metadata": {},
   "outputs": [],
   "source": [
    "hands = mp_hands.Hands(max_num_hands = 2, static_image_mode = False,min_detection_confidence = 0.5)"
   ]
  },
  {
   "cell_type": "code",
   "execution_count": 5,
   "metadata": {},
   "outputs": [],
   "source": [
    "# storing all the coordinates at different timesteps in a list\n",
    "list_x = []\n",
    "list_y = []\n",
    "list_z = []\n",
    "list_avg_x = []\n",
    "list_avg_y = []\n",
    "list_avg_z = []\n"
   ]
  },
  {
   "cell_type": "code",
   "execution_count": null,
   "metadata": {},
   "outputs": [],
   "source": []
  },
  {
   "cell_type": "code",
   "execution_count": 6,
   "metadata": {},
   "outputs": [],
   "source": [
    "# color and thickness of the lines\n",
    "color = (255,0,0)\n",
    "thickness = 2\n",
    "# threshold after which we should start drawing\n",
    "threshold = 4\n",
    "\n",
    "# moving average buffer\n",
    "k = 5\n"
   ]
  },
  {
   "cell_type": "code",
   "execution_count": 7,
   "metadata": {},
   "outputs": [],
   "source": [
    "# canvas on which we are drawing\n",
    "canvas = np.zeros([512,512,1],dtype=np.uint8)\n"
   ]
  },
  {
   "cell_type": "code",
   "execution_count": 8,
   "metadata": {},
   "outputs": [],
   "source": [
    "toggle = 1\n",
    "\n",
    "     \n",
    "    "
   ]
  },
  {
   "cell_type": "code",
   "execution_count": 9,
   "metadata": {},
   "outputs": [],
   "source": [
    "cap = cv2.VideoCapture(0)\n",
    "count = 0\n",
    "while cap.isOpened():\n",
    "    success, image = cap.read()\n",
    "    \n",
    "        \n",
    "    if not success:\n",
    "        print(\"video capture unsuccessful\")\n",
    "        break\n",
    "    \n",
    "    image = cv2.cvtColor(cv2.flip(image,1), cv2.COLOR_BGR2RGB)\n",
    "    image.flags.writeable = False\n",
    "    results = hands.process(image)\n",
    "    \n",
    "    \n",
    "    \n",
    "    image.flags.writeable = True\n",
    "    image = cv2.cvtColor(image, cv2.COLOR_RGB2BGR)\n",
    "    \n",
    "    key = cv2.waitKey(5)\n",
    "    \n",
    "    if key == 225:\n",
    "        toggle = toggle^1\n",
    "    elif key & 0xFF == ord('s'):\n",
    "        break\n",
    "    \n",
    "    \n",
    "        \n",
    "    \n",
    "    if results.multi_hand_landmarks:\n",
    "        \n",
    "        \n",
    "        \n",
    "            count = count+1\n",
    "            hand_landmarks = results.multi_hand_landmarks[0]\n",
    "        \n",
    "            # add the coordinates to the list\n",
    "            list_x.append(int(hand_landmarks.landmark[8].x*512))\n",
    "            list_y.append(int(hand_landmarks.landmark[8].y*512))\n",
    "            list_z.append(int(hand_landmarks.landmark[8].z*512))\n",
    "            \n",
    "            if(count == k):\n",
    "                avg_x = sum(list_x[-k:])/k\n",
    "                avg_y = sum(list_y[-k:])/k\n",
    "                avg_z = sum(list_z[-k:])/k\n",
    "            \n",
    "                list_avg_x.append(int(avg_x))\n",
    "                list_avg_y.append(int(avg_y))\n",
    "                list_avg_z.append(int(avg_z))\n",
    "                count = 0\n",
    "            \n",
    "        \n",
    "            if(len(list_avg_x) > threshold and toggle == 1):\n",
    "                # get the current coordinates as endpoint\n",
    "                end_point = (list_avg_x[-1], list_avg_y[-1])\n",
    "                # get the previous coordinates as the start point\n",
    "                start_point = (list_avg_x[-2], list_avg_y[-2])\n",
    "                # draw a line joining these points\n",
    "                cv2.line(canvas,start_point, end_point,color, thickness)\n",
    "                \n",
    "                \n",
    "                \n",
    "       \n",
    "            mp_drawing.draw_landmarks(image, hand_landmarks, mp_hands.HAND_CONNECTIONS)\n",
    "    \n",
    "            \n",
    "    # show the canvas and the webcam image   \n",
    "    cv2.imshow(\"Detected Hands\", image)\n",
    "    cv2.imshow(\"Result\", canvas)\n",
    "    \n",
    "    \n",
    "    \n",
    "  \n",
    "hands.close()\n",
    "cv2.destroyAllWindows()\n",
    "cap.release()\n",
    "\n",
    "\n",
    "\n",
    "\n"
   ]
  },
  {
   "cell_type": "code",
   "execution_count": 10,
   "metadata": {},
   "outputs": [
    {
     "name": "stdout",
     "output_type": "stream",
     "text": [
      "[299, 274, 272, 277, 283, 285, 284, 284, 284, 286, 285, 285, 285, 285, 284, 284, 285, 291, 339, 298, 303, 306, 315, 329, 339, 316, 233, 147, 131, 143, 156, 160, 147, 145, 148, 150, 148, 153, 150, 143, 153, 149, 164, 167, 315, 301, 281, 220, 213, 133, 101, 117, 139, 154, 178, 181, 182, 183, 193, 198, 213, 227, 246, 273, 285, 280, 215, 183, 178, 162, 153, 153, 155, 154, 152, 152, 171, 231, 290, 340, 377, 331, 301, 310, 312, 308]\n"
     ]
    }
   ],
   "source": [
    "print(list_avg_x)"
   ]
  },
  {
   "cell_type": "code",
   "execution_count": 11,
   "metadata": {},
   "outputs": [
    {
     "name": "stdout",
     "output_type": "stream",
     "text": [
      "[308, 182, 157, 150, 149, 147, 149, 145, 148, 145, 145, 149, 145, 146, 147, 151, 171, 220, 298, 262, 213, 197, 191, 190, 204, 226, 299, 197, 173, 168, 160, 157, 153, 153, 158, 160, 165, 170, 164, 202, 163, 185, 258, 246, 277, 297, 170, 138, 210, 297, 373, 422, 423, 424, 422, 411, 411, 415, 404, 375, 345, 347, 352, 369, 390, 364, 312, 298, 298, 268, 262, 261, 261, 263, 264, 269, 270, 285, 303, 273, 279, 231, 165, 141, 137, 144]\n"
     ]
    }
   ],
   "source": [
    "print(list_avg_y)"
   ]
  },
  {
   "cell_type": "code",
   "execution_count": 12,
   "metadata": {},
   "outputs": [
    {
     "name": "stdout",
     "output_type": "stream",
     "text": [
      "1\n"
     ]
    }
   ],
   "source": [
    "print(count)"
   ]
  },
  {
   "cell_type": "code",
   "execution_count": 13,
   "metadata": {},
   "outputs": [
    {
     "name": "stdout",
     "output_type": "stream",
     "text": [
      "86\n"
     ]
    }
   ],
   "source": [
    "print(len(list_avg_x))"
   ]
  },
  {
   "cell_type": "code",
   "execution_count": null,
   "metadata": {},
   "outputs": [],
   "source": []
  }
 ],
 "metadata": {
  "kernelspec": {
   "display_name": "Python 3",
   "language": "python",
   "name": "python3"
  },
  "language_info": {
   "codemirror_mode": {
    "name": "ipython",
    "version": 3
   },
   "file_extension": ".py",
   "mimetype": "text/x-python",
   "name": "python",
   "nbconvert_exporter": "python",
   "pygments_lexer": "ipython3",
   "version": "3.8.5"
  }
 },
 "nbformat": 4,
 "nbformat_minor": 4
}
