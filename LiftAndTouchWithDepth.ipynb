{
 "cells": [
  {
   "cell_type": "code",
   "execution_count": 17,
   "metadata": {},
   "outputs": [],
   "source": [
    "import cv2\n"
   ]
  },
  {
   "cell_type": "code",
   "execution_count": 18,
   "metadata": {},
   "outputs": [],
   "source": [
    "import mediapipe as mp\n",
    "import numpy as np\n",
    "from scipy.signal import lfilter\n",
    "import matplotlib.pyplot as plt"
   ]
  },
  {
   "cell_type": "code",
   "execution_count": 19,
   "metadata": {},
   "outputs": [],
   "source": [
    "mp_drawing = mp.solutions.drawing_utils\n",
    "mp_hands = mp.solutions.hands"
   ]
  },
  {
   "cell_type": "code",
   "execution_count": 20,
   "metadata": {},
   "outputs": [],
   "source": [
    "hands = mp_hands.Hands(max_num_hands = 2, static_image_mode = False,min_detection_confidence = 0.5)"
   ]
  },
  {
   "cell_type": "code",
   "execution_count": 21,
   "metadata": {},
   "outputs": [],
   "source": [
    "def init():\n",
    "    buffer_count = 0\n",
    "    base_depth = 0\n",
    "    list_points = []\n",
    "    list_avg = []\n",
    "    display = canvas.copy()\n",
    "    \n",
    "    return buffer_count, list_points, list_avg, display, base_depth\n",
    "    "
   ]
  },
  {
   "cell_type": "code",
   "execution_count": 22,
   "metadata": {},
   "outputs": [],
   "source": [
    "def is_touch(list_avg, base_depth, threshold):\n",
    "    if(list_avg[-1][2] - base_depth < threshold['touch']):\n",
    "        return True\n",
    "    else:\n",
    "        return False\n",
    "        \n",
    "    "
   ]
  },
  {
   "cell_type": "code",
   "execution_count": 23,
   "metadata": {},
   "outputs": [],
   "source": [
    "def find_sum(list_points,k, axis):\n",
    "    list_axis = [sub[axis] for sub in list_points]\n",
    "    \n",
    "    \n",
    "    return sum(list_axis[-k:])"
   ]
  },
  {
   "cell_type": "code",
   "execution_count": 24,
   "metadata": {},
   "outputs": [],
   "source": [
    "def add_coordinates(list_points, hand_landmarks):\n",
    "    \n",
    "    point = []\n",
    "    point.append(int(hand_landmarks.landmark[8].x*800))\n",
    "    point.append(int(hand_landmarks.landmark[8].y*800))\n",
    "    point.append(int(hand_landmarks.landmark[8].z*512))\n",
    "    \n",
    "    list_points.append(point)\n",
    "    \n",
    "    return list_points\n",
    "    "
   ]
  },
  {
   "cell_type": "code",
   "execution_count": 25,
   "metadata": {},
   "outputs": [],
   "source": [
    "def find_average(list_points, k):\n",
    "    avg_x = find_sum(list_points, k, axis = 0)/k\n",
    "    avg_y = find_sum(list_points, k, axis = 1)/k\n",
    "    avg_z = find_sum(list_points, k, axis = 2)/k\n",
    "    return avg_x,avg_y,avg_z"
   ]
  },
  {
   "cell_type": "code",
   "execution_count": 26,
   "metadata": {},
   "outputs": [],
   "source": [
    "def add_to_average_list(list_avg, avg_x, avg_y,avg_z):\n",
    "    \n",
    "    list_avg.append([int(avg_x),int(avg_y),int(avg_z)])\n",
    "    \n",
    "    return list_avg"
   ]
  },
  {
   "cell_type": "code",
   "execution_count": 27,
   "metadata": {},
   "outputs": [],
   "source": [
    "def draw_line(canvas,list_avg,color,thickness):\n",
    "    \n",
    "    # get the current coordinates as endpoint\n",
    "    end_point = (list_avg[-1][0], list_avg[-1][1])\n",
    "    # get the previous coordinates as the start point\n",
    "    start_point = (list_avg[-2][0], list_avg[-2][1])\n",
    "    # draw a line joining these points\n",
    "    cv2.line(canvas,start_point, end_point,color, thickness)\n",
    "    \n",
    "    return canvas"
   ]
  },
  {
   "cell_type": "code",
   "execution_count": 28,
   "metadata": {},
   "outputs": [],
   "source": [
    "def draw_circle(cursor, list_avg, radius, color,thickness):\n",
    "    # get the current coordinates as endpoint\n",
    "    end_point = (list_avg[-1][0], list_avg[-1][1])\n",
    "    cv2.circle(cursor,end_point,radius,color,thickness)\n",
    "    \n",
    "    return cursor"
   ]
  },
  {
   "cell_type": "code",
   "execution_count": 29,
   "metadata": {},
   "outputs": [],
   "source": [
    "def draw(canvas, threshold,color, radius, thickness, k ):\n",
    "    cap = cv2.VideoCapture(0)\n",
    "    \n",
    "    buffer_count, list_points, list_avg, display, base_depth = init()\n",
    "    \n",
    "    while cap.isOpened():\n",
    "        success, image = cap.read()\n",
    "\n",
    "        touching_check = False\n",
    "        if not success:\n",
    "            print(\"video capture unsuccessful\")\n",
    "            break\n",
    "\n",
    "\n",
    "\n",
    "        image = cv2.cvtColor(cv2.flip(image,1), cv2.COLOR_BGR2RGB)\n",
    "        image.flags.writeable = False\n",
    "        results = hands.process(image)\n",
    "\n",
    "\n",
    "\n",
    "        image.flags.writeable = True\n",
    "        image = cv2.cvtColor(image, cv2.COLOR_RGB2BGR)\n",
    "\n",
    "        if results.multi_hand_landmarks:\n",
    "\n",
    "\n",
    "\n",
    "            buffer_count = buffer_count+1\n",
    "            hand_landmarks = results.multi_hand_landmarks[0]\n",
    "\n",
    "            # add the coordinates to the list\n",
    "            list_points = add_coordinates(list_points, hand_landmarks)\n",
    "\n",
    "\n",
    "\n",
    "\n",
    "\n",
    "            if(buffer_count == k):\n",
    "                avg_x, avg_y, avg_z = find_average(list_points, k)\n",
    "                list_avg = add_to_average_list(list_avg,avg_x,avg_y,avg_z)\n",
    "                    \n",
    "                buffer_count = 0\n",
    "\n",
    "\n",
    "\n",
    "                if(len(list_avg) == threshold['base']):\n",
    "                    base_depth = list_avg[-1][2]\n",
    "\n",
    "                touching_check = is_touch(list_avg, base_depth, threshold)\n",
    "                \n",
    "\n",
    "                if(len(list_avg) > threshold['draw'] and touching_check == True):\n",
    "                    \n",
    "                    canvas = draw_line(canvas,list_avg,color,thickness)\n",
    "                    display = canvas.copy()\n",
    "                elif(len(list_avg) > threshold['draw'] and touching_check == False):\n",
    "\n",
    "                    cursor = canvas.copy()\n",
    "                    cursor = draw_circle(cursor, list_avg, radius, color,thickness)\n",
    "                    display = cursor.copy()\n",
    "\n",
    "\n",
    "\n",
    "\n",
    "            mp_drawing.draw_landmarks(image, hand_landmarks, mp_hands.HAND_CONNECTIONS)\n",
    "\n",
    "\n",
    "\n",
    "\n",
    "        # show the canvas and the webcam image   \n",
    "        cv2.imshow(\"Detected Hands\", image)\n",
    "        cv2.imshow(\"Result\", display)\n",
    "\n",
    "\n",
    "\n",
    "        # exit when the user presses 's's\n",
    "        if cv2.waitKey(5) & 0xFF == ord('s'):\n",
    "            break\n",
    "    hands.close()\n",
    "    cv2.destroyAllWindows()\n",
    "    cap.release()\n",
    "\n",
    "\n",
    "\n",
    "\n"
   ]
  },
  {
   "cell_type": "code",
   "execution_count": 14,
   "metadata": {},
   "outputs": [],
   "source": [
    "canvas = np.zeros([800,800,1],dtype=np.uint8)"
   ]
  },
  {
   "cell_type": "code",
   "execution_count": 15,
   "metadata": {},
   "outputs": [],
   "source": [
    "threshold = {'touch': -25,\n",
    "             'base':  6,\n",
    "             'draw':  8\n",
    "            }"
   ]
  },
  {
   "cell_type": "code",
   "execution_count": 16,
   "metadata": {},
   "outputs": [],
   "source": [
    "draw(canvas, threshold, color = (255,0,0),radius = 2, thickness = 2, k =5)"
   ]
  },
  {
   "cell_type": "code",
   "execution_count": null,
   "metadata": {},
   "outputs": [],
   "source": []
  }
 ],
 "metadata": {
  "kernelspec": {
   "display_name": "Python 3",
   "language": "python",
   "name": "python3"
  },
  "language_info": {
   "codemirror_mode": {
    "name": "ipython",
    "version": 3
   },
   "file_extension": ".py",
   "mimetype": "text/x-python",
   "name": "python",
   "nbconvert_exporter": "python",
   "pygments_lexer": "ipython3",
   "version": "3.8.5"
  }
 },
 "nbformat": 4,
 "nbformat_minor": 4
}
